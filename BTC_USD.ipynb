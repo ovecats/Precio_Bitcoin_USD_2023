{
  "nbformat": 4,
  "nbformat_minor": 0,
  "metadata": {
    "colab": {
      "provenance": [],
      "include_colab_link": true
    },
    "kernelspec": {
      "name": "python3",
      "display_name": "Python 3"
    },
    "language_info": {
      "name": "python"
    }
  },
  "cells": [
    {
      "cell_type": "markdown",
      "metadata": {
        "id": "view-in-github",
        "colab_type": "text"
      },
      "source": [
        "<a href=\"https://colab.research.google.com/github/ovecats/Precio_Bitcoin_USD_2023/blob/btc_usd_respaldo/BTC_USD.ipynb\" target=\"_parent\"><img src=\"https://colab.research.google.com/assets/colab-badge.svg\" alt=\"Open In Colab\"/></a>"
      ]
    },
    {
      "cell_type": "markdown",
      "source": [
        "***Precio diario de Bitcoin USD con volumen (2015-2023)***\n"
      ],
      "metadata": {
        "id": "DZInbWqmBtYx"
      }
    },
    {
      "cell_type": "markdown",
      "source": [
        "#**Instalar librerías**"
      ],
      "metadata": {
        "id": "DYReJsMV4anU"
      }
    },
    {
      "cell_type": "markdown",
      "source": [],
      "metadata": {
        "id": "VZ9IlbcnBn7c"
      }
    },
    {
      "cell_type": "code",
      "execution_count": null,
      "metadata": {
        "colab": {
          "base_uri": "https://localhost:8080/"
        },
        "id": "S1bc_xUUL0oA",
        "outputId": "51fe1df3-87d3-49ae-b2ed-f4f1100a7de3"
      },
      "outputs": [
        {
          "output_type": "stream",
          "name": "stdout",
          "text": [
            "Collecting pyspark\n",
            "  Downloading pyspark-3.4.1.tar.gz (310.8 MB)\n",
            "\u001b[2K     \u001b[90m━━━━━━━━━━━━━━━━━━━━━━━━━━━━━━━━━━━━━━━\u001b[0m \u001b[32m310.8/310.8 MB\u001b[0m \u001b[31m2.6 MB/s\u001b[0m eta \u001b[36m0:00:00\u001b[0m\n",
            "\u001b[?25h  Preparing metadata (setup.py) ... \u001b[?25l\u001b[?25hdone\n",
            "Requirement already satisfied: py4j==0.10.9.7 in /usr/local/lib/python3.10/dist-packages (from pyspark) (0.10.9.7)\n",
            "Building wheels for collected packages: pyspark\n",
            "  Building wheel for pyspark (setup.py) ... \u001b[?25l\u001b[?25hdone\n",
            "  Created wheel for pyspark: filename=pyspark-3.4.1-py2.py3-none-any.whl size=311285398 sha256=db5e9a902cb2d76b73071f73f2480f8715b71b8dd9f10327dc17c0ea8b273c02\n",
            "  Stored in directory: /root/.cache/pip/wheels/0d/77/a3/ff2f74cc9ab41f8f594dabf0579c2a7c6de920d584206e0834\n",
            "Successfully built pyspark\n",
            "Installing collected packages: pyspark\n",
            "Successfully installed pyspark-3.4.1\n"
          ]
        }
      ],
      "source": [
        "# Instalar librerias\n",
        "!pip install pyspark\n",
        "!pip install -q kaggle"
      ]
    },
    {
      "cell_type": "markdown",
      "source": [
        "# **Importar librerías**"
      ],
      "metadata": {
        "id": "x3oaoINIUzZH"
      }
    },
    {
      "cell_type": "code",
      "source": [
        "from pyspark.sql import functions as F\n",
        "from pyspark.sql import SparkSession\n",
        "from pyspark.sql.types import *\n",
        "import zipfile\n",
        "import os\n",
        "import pandas as pd"
      ],
      "metadata": {
        "id": "j9wilZDqMTo7"
      },
      "execution_count": null,
      "outputs": []
    },
    {
      "cell_type": "markdown",
      "source": [
        "# **Creación de una sesión con Spark**"
      ],
      "metadata": {
        "id": "O7rB3UCHU6TS"
      }
    },
    {
      "cell_type": "code",
      "source": [
        "#Iniciar conexión de spark\n",
        "spark = SparkSession.builder\\\n",
        "        .master(\"local\")\\\n",
        "        .appName(\"Colab\")\\\n",
        "        .config('spark.ui.port', '4050')\\\n",
        "        .getOrCreate()"
      ],
      "metadata": {
        "id": "MkEzdz7AMul-"
      },
      "execution_count": null,
      "outputs": []
    },
    {
      "cell_type": "markdown",
      "source": [
        "# **Conexión con kaggle para descargar los datos**\n",
        "Para descargar datos desde Kaggle es necesario crear un token de acceso. Para esto debes seguir los siguientes pasos:\n",
        "\n",
        "1.   Ingresa a tu perfil de kaggle\n",
        "2.   Seleccionar *Account* y bajar hasta la opción *API*\n",
        "3.   Dar click en *Create New API Token* y se descargará un archivo JSON con   tus credenciales\n",
        "4.   Subir el archivo JSON a Colab Notebook\n"
      ],
      "metadata": {
        "id": "rtBRZer3466X"
      }
    },
    {
      "cell_type": "code",
      "source": [
        "# Creamos carpeta oculta en ambiente de linux sobre colab\n",
        "!mkdir ~/.kaggle"
      ],
      "metadata": {
        "id": "mKi8RU-1QsAY"
      },
      "execution_count": null,
      "outputs": []
    },
    {
      "cell_type": "code",
      "source": [
        "# Copiar el archivo JSON  a la carpeta oculta que creamos\n",
        "!cp kaggle.json ~/.kaggle/"
      ],
      "metadata": {
        "id": "gHs5wpcTQwNW",
        "outputId": "f012bec2-f5b0-42d7-ab81-ce6f033d085c",
        "colab": {
          "base_uri": "https://localhost:8080/"
        }
      },
      "execution_count": null,
      "outputs": [
        {
          "output_type": "stream",
          "name": "stdout",
          "text": [
            "cp: cannot stat 'kaggle.json': No such file or directory\n"
          ]
        }
      ]
    },
    {
      "cell_type": "code",
      "source": [
        "# Cambiamos los permisos para permitir lectura de las credenciales\n",
        "!chmod 600 ~/.kaggle/kaggle.json"
      ],
      "metadata": {
        "id": "mty4DoQJQz9y"
      },
      "execution_count": null,
      "outputs": []
    },
    {
      "cell_type": "code",
      "source": [
        "# Descargamos archivos indicando el usuario del propietario de los datos en kaggle y el nombre de dataset\n",
        "! kaggle datasets download prkhrawsthi/bitcoin-usd-daily-price-with-volume-2015-2023 --force"
      ],
      "metadata": {
        "colab": {
          "base_uri": "https://localhost:8080/"
        },
        "id": "VliMEHA8RB4Q",
        "outputId": "250db573-044c-42c6-d49c-b0f22eb1fce8"
      },
      "execution_count": null,
      "outputs": [
        {
          "output_type": "stream",
          "name": "stdout",
          "text": [
            "Downloading bitcoin-usd-daily-price-with-volume-2015-2023.zip to /content\n",
            "\r  0% 0.00/88.3k [00:00<?, ?B/s]\n",
            "\r100% 88.3k/88.3k [00:00<00:00, 67.0MB/s]\n"
          ]
        }
      ]
    },
    {
      "cell_type": "code",
      "source": [
        "# Descomprimir el archivo\n",
        "for file in os.listdir():\n",
        "    if file.endswith('.zip'):\n",
        "      zip_ref = zipfile.ZipFile(file, 'r')\n",
        "      zip_ref.extractall()\n",
        "      zip_ref.close()"
      ],
      "metadata": {
        "id": "Wn5YYnCuTsUS"
      },
      "execution_count": null,
      "outputs": []
    },
    {
      "cell_type": "markdown",
      "source": [
        "# **Lectura de datos**"
      ],
      "metadata": {
        "id": "SMHNp87J5SQo"
      }
    },
    {
      "cell_type": "markdown",
      "source": [
        "## Lectura de datos con Pandas"
      ],
      "metadata": {
        "id": "PyhGnfl1aFFj"
      }
    },
    {
      "cell_type": "code",
      "source": [
        "df_pandas =pd.read_csv('/content/BTC-USD.csv')"
      ],
      "metadata": {
        "id": "xojw0u8MU655"
      },
      "execution_count": null,
      "outputs": []
    },
    {
      "cell_type": "markdown",
      "source": [
        "## Lectura datos con PySpark"
      ],
      "metadata": {
        "id": "TkqYvTjb5VGV"
      }
    },
    {
      "cell_type": "code",
      "source": [
        "df = spark.read.csv('/content/BTC-USD.csv', header=True)"
      ],
      "metadata": {
        "id": "NbkhPLRDUzmA"
      },
      "execution_count": null,
      "outputs": []
    },
    {
      "cell_type": "code",
      "source": [
        "# Guardar el dataset en Drive\n",
        "!cp BTC-USD.csv> \"/content/drive/MyDrive/(datasets)\""
      ],
      "metadata": {
        "id": "0NjfuzQzWXn-",
        "colab": {
          "base_uri": "https://localhost:8080/"
        },
        "outputId": "fea61fa2-cb62-4661-a619-3af5408102de"
      },
      "execution_count": null,
      "outputs": [
        {
          "output_type": "stream",
          "name": "stdout",
          "text": [
            "/bin/bash: /content/drive/MyDrive/(datasets): No such file or directory\n"
          ]
        }
      ]
    },
    {
      "cell_type": "markdown",
      "source": [
        "# **Procesamiento de datos**"
      ],
      "metadata": {
        "id": "CvGQgstQahMm"
      }
    },
    {
      "cell_type": "markdown",
      "source": [
        "## Número de filas y columnas\n",
        "\n",
        "pandas:\n",
        "\n",
        "```\n",
        "df.shape\n",
        "```\n",
        "\n"
      ],
      "metadata": {
        "id": "CbA670kW6SzA"
      }
    },
    {
      "cell_type": "code",
      "source": [
        "print((df.count(), len(df.columns)))"
      ],
      "metadata": {
        "colab": {
          "base_uri": "https://localhost:8080/"
        },
        "id": "uVXaXjMuFfqM",
        "outputId": "d8760680-8f5e-46e2-f19a-6df901561a90"
      },
      "execution_count": null,
      "outputs": [
        {
          "output_type": "stream",
          "name": "stdout",
          "text": [
            "(3104, 7)\n"
          ]
        }
      ]
    },
    {
      "cell_type": "markdown",
      "source": [
        "## Ver una muestra de los datos\n",
        "\n",
        "pandas:\n",
        "\n",
        "```\n",
        "df.head()\n",
        "```"
      ],
      "metadata": {
        "id": "iEXFI1hO6Xrm"
      }
    },
    {
      "cell_type": "code",
      "source": [
        "df.show(5)"
      ],
      "metadata": {
        "colab": {
          "base_uri": "https://localhost:8080/"
        },
        "id": "tVa3Aj3VM6_-",
        "outputId": "aff93d6a-06e9-481d-bf08-8ab946a0ef26"
      },
      "execution_count": null,
      "outputs": [
        {
          "output_type": "stream",
          "name": "stdout",
          "text": [
            "+----------+----------+----------+----------+----------+----------+--------+\n",
            "|      Date|      Open|      High|       Low|     Close| Adj Close|  Volume|\n",
            "+----------+----------+----------+----------+----------+----------+--------+\n",
            "|2015-01-03|314.846008|315.149994|281.082001|281.082001|281.082001|33054400|\n",
            "|2015-01-04|281.145996|287.230011|257.612000|264.195007|264.195007|55629100|\n",
            "|2015-01-05|265.084015|278.341003|265.084015|274.473999|274.473999|43962800|\n",
            "|2015-01-06|274.610992|287.553009|272.696014|286.188995|286.188995|23245700|\n",
            "|2015-01-07|286.076996|298.753998|283.079010|294.337006|294.337006|24866800|\n",
            "+----------+----------+----------+----------+----------+----------+--------+\n",
            "only showing top 5 rows\n",
            "\n"
          ]
        }
      ]
    },
    {
      "cell_type": "markdown",
      "source": [
        "## Esquema de los datos\n",
        "\n",
        "pandas:\n",
        "\n",
        "```\n",
        "df.info()\n",
        "```"
      ],
      "metadata": {
        "id": "aWY7QBlf6cUn"
      }
    },
    {
      "cell_type": "code",
      "source": [
        "df.printSchema()"
      ],
      "metadata": {
        "colab": {
          "base_uri": "https://localhost:8080/"
        },
        "id": "K5pWpuPVE6xT",
        "outputId": "333a877d-dcf5-4293-805d-4ba9f46491b2"
      },
      "execution_count": null,
      "outputs": [
        {
          "output_type": "stream",
          "name": "stdout",
          "text": [
            "root\n",
            " |-- Date: string (nullable = true)\n",
            " |-- Open: string (nullable = true)\n",
            " |-- High: string (nullable = true)\n",
            " |-- Low: string (nullable = true)\n",
            " |-- Close: string (nullable = true)\n",
            " |-- Adj Close: string (nullable = true)\n",
            " |-- Volume: string (nullable = true)\n",
            "\n"
          ]
        }
      ]
    },
    {
      "cell_type": "markdown",
      "source": [
        "## Estadística descriptiva\n",
        "\n",
        "pandas:\n",
        "\n",
        "```\n",
        "df.describe()\n",
        "```"
      ],
      "metadata": {
        "id": "rOa_Qq8J7N_q"
      }
    },
    {
      "cell_type": "code",
      "source": [
        "df.describe().show()"
      ],
      "metadata": {
        "colab": {
          "base_uri": "https://localhost:8080/"
        },
        "id": "IAZ2Lj8cIc2M",
        "outputId": "ca49a69d-2ace-435e-fd3a-2ab45e50dcd6"
      },
      "execution_count": null,
      "outputs": [
        {
          "output_type": "stream",
          "name": "stdout",
          "text": [
            "+-------+----------+------------------+------------------+------------------+------------------+------------------+--------------------+\n",
            "|summary|      Date|              Open|              High|               Low|             Close|         Adj Close|              Volume|\n",
            "+-------+----------+------------------+------------------+------------------+------------------+------------------+--------------------+\n",
            "|  count|      3104|              3104|              3104|              3104|              3104|              3104|                3104|\n",
            "|   mean|      null|14041.039379181955|14385.041531778288|13664.743745447107|14049.414853644279|14049.414853644279|1.715624286159181...|\n",
            "| stddev|      null|16095.940890798087| 16500.08755236381| 15634.14027342463| 16093.55742594234| 16093.55742594234|1.962263477785498...|\n",
            "|    min|2015-01-03|      10024.115234|       1002.099976|      10000.708008|      10005.000000|      10005.000000|         10014858959|\n",
            "|    max|2023-07-03|        998.885010|       9996.743164|       9992.006836|        999.181030|        999.181030|          9999171605|\n",
            "+-------+----------+------------------+------------------+------------------+------------------+------------------+--------------------+\n",
            "\n"
          ]
        }
      ]
    },
    {
      "cell_type": "markdown",
      "source": [
        "## Filtrar el dataset\n",
        "\n",
        "pandas:\n",
        "\n",
        "```\n",
        "df[df['Date']=='2023-07-03']\n",
        "```"
      ],
      "metadata": {
        "id": "43NFt_kY8HeI"
      }
    },
    {
      "cell_type": "code",
      "source": [
        "df.filter(df.Date == \"2023-07-03\").show()"
      ],
      "metadata": {
        "colab": {
          "base_uri": "https://localhost:8080/"
        },
        "id": "4ur6PTYKJDcF",
        "outputId": "ab1e26d1-f5ed-42d4-9c76-f54c15384d15"
      },
      "execution_count": null,
      "outputs": [
        {
          "output_type": "stream",
          "name": "stdout",
          "text": [
            "+----------+------------+------------+------------+------------+------------+-----------+\n",
            "|      Date|        Open|        High|         Low|       Close|   Adj Close|     Volume|\n",
            "+----------+------------+------------+------------+------------+------------+-----------+\n",
            "|2023-07-03|30616.166016|30789.113281|30602.289063|30652.357422|30652.357422|11762191360|\n",
            "+----------+------------+------------+------------+------------+------------+-----------+\n",
            "\n"
          ]
        }
      ]
    },
    {
      "cell_type": "markdown",
      "source": [
        "## Ordenar el dataset\n",
        "pandas:\n",
        "\n",
        "```\n",
        "df.sort_values(by=['UTCDate'], ascending=False)\n",
        "```"
      ],
      "metadata": {
        "id": "jWxhikfN85Ff"
      }
    },
    {
      "cell_type": "code",
      "source": [
        "df.sort(F.col(\"Date\").desc()).show(5)"
      ],
      "metadata": {
        "colab": {
          "base_uri": "https://localhost:8080/"
        },
        "id": "X2f0G1wwMEek",
        "outputId": "d014d88c-2a74-45a9-a1f7-bc19aac341a0"
      },
      "execution_count": null,
      "outputs": [
        {
          "output_type": "stream",
          "name": "stdout",
          "text": [
            "+----------+------------+------------+------------+------------+------------+-----------+\n",
            "|      Date|        Open|        High|         Low|       Close|   Adj Close|     Volume|\n",
            "+----------+------------+------------+------------+------------+------------+-----------+\n",
            "|2023-07-03|30616.166016|30789.113281|30602.289063|30652.357422|30652.357422|11762191360|\n",
            "|2023-07-02|30587.269531|30766.140625|30264.019531|30620.769531|30620.769531|10533418042|\n",
            "|2023-07-01|30471.847656|30641.289063|30328.865234|30590.078125|30590.078125| 9086606733|\n",
            "|2023-06-30|30441.353516|31256.863281|29600.275391|30477.251953|30477.251953|26387306197|\n",
            "|2023-06-29|30086.187500|30796.250000|30057.203125|30445.351563|30445.351563|13180860821|\n",
            "+----------+------------+------------+------------+------------+------------+-----------+\n",
            "only showing top 5 rows\n",
            "\n"
          ]
        }
      ]
    },
    {
      "cell_type": "markdown",
      "source": [
        "## Eliminar una columna:\n",
        "\n",
        "pandas:\n",
        "\n",
        "```\n",
        "df.drop(columns=['Adj Close'], inplace=True)\n",
        "```"
      ],
      "metadata": {
        "id": "2Kdu-KN09cgv"
      }
    },
    {
      "cell_type": "code",
      "source": [
        "df = df.drop(\"Adj Close\")\n",
        "df.show(4)"
      ],
      "metadata": {
        "colab": {
          "base_uri": "https://localhost:8080/"
        },
        "id": "pWO4OFv2Nlsw",
        "outputId": "1fba582c-aa70-48fe-f916-a7c95cc488da"
      },
      "execution_count": null,
      "outputs": [
        {
          "output_type": "stream",
          "name": "stdout",
          "text": [
            "+----------+----------+----------+----------+----------+--------+\n",
            "|      Date|      Open|      High|       Low|     Close|  Volume|\n",
            "+----------+----------+----------+----------+----------+--------+\n",
            "|2015-01-03|314.846008|315.149994|281.082001|281.082001|33054400|\n",
            "|2015-01-04|281.145996|287.230011|257.612000|264.195007|55629100|\n",
            "|2015-01-05|265.084015|278.341003|265.084015|274.473999|43962800|\n",
            "|2015-01-06|274.610992|287.553009|272.696014|286.188995|23245700|\n",
            "+----------+----------+----------+----------+----------+--------+\n",
            "only showing top 4 rows\n",
            "\n"
          ]
        }
      ]
    },
    {
      "cell_type": "markdown",
      "source": [
        "## Eliminar datos nulos:\n",
        "\n",
        "pandas:\n",
        "\n",
        "```\n",
        "df.dropna(inplace=True)\n",
        "```"
      ],
      "metadata": {
        "id": "M99VZSmX9ygq"
      }
    },
    {
      "cell_type": "code",
      "source": [
        "df = df.na.drop()\n",
        "df.show(4)"
      ],
      "metadata": {
        "colab": {
          "base_uri": "https://localhost:8080/"
        },
        "id": "Id9DjGzlOV-S",
        "outputId": "35fbdccf-d2aa-4ed2-9f3e-4c7bee351b97"
      },
      "execution_count": null,
      "outputs": [
        {
          "output_type": "stream",
          "name": "stdout",
          "text": [
            "+----------+----------+----------+----------+----------+--------+\n",
            "|      Date|      Open|      High|       Low|     Close|  Volume|\n",
            "+----------+----------+----------+----------+----------+--------+\n",
            "|2015-01-03|314.846008|315.149994|281.082001|281.082001|33054400|\n",
            "|2015-01-04|281.145996|287.230011|257.612000|264.195007|55629100|\n",
            "|2015-01-05|265.084015|278.341003|265.084015|274.473999|43962800|\n",
            "|2015-01-06|274.610992|287.553009|272.696014|286.188995|23245700|\n",
            "+----------+----------+----------+----------+----------+--------+\n",
            "only showing top 4 rows\n",
            "\n"
          ]
        }
      ]
    },
    {
      "cell_type": "code",
      "source": [
        "print((df.count(), len(df.columns)))"
      ],
      "metadata": {
        "id": "eHmLXGyoNE_K",
        "outputId": "e4798543-01d0-4082-e099-fb73d34e2af8",
        "colab": {
          "base_uri": "https://localhost:8080/"
        }
      },
      "execution_count": null,
      "outputs": [
        {
          "output_type": "stream",
          "name": "stdout",
          "text": [
            "(3104, 6)\n"
          ]
        }
      ]
    },
    {
      "cell_type": "markdown",
      "source": [
        "## Convertir datos a DataFrame de Pandas:"
      ],
      "metadata": {
        "id": "W1v_HrZk-S0e"
      }
    },
    {
      "cell_type": "code",
      "source": [
        "df_Pandas = df.select(\"Date\", \"Open\", \"High\").limit(50).toPandas()"
      ],
      "metadata": {
        "id": "Ec4hOwIROip9"
      },
      "execution_count": null,
      "outputs": []
    },
    {
      "cell_type": "code",
      "source": [
        "df_Pandas.head()"
      ],
      "metadata": {
        "id": "0-eQ3OPPRwLq",
        "outputId": "7f5a83c8-003e-4f16-cdf2-abdd5f1d1528",
        "colab": {
          "base_uri": "https://localhost:8080/",
          "height": 206
        }
      },
      "execution_count": null,
      "outputs": [
        {
          "output_type": "execute_result",
          "data": {
            "text/plain": [
              "         Date        Open        High\n",
              "0  2015-01-03  314.846008  315.149994\n",
              "1  2015-01-04  281.145996  287.230011\n",
              "2  2015-01-05  265.084015  278.341003\n",
              "3  2015-01-06  274.610992  287.553009\n",
              "4  2015-01-07  286.076996  298.753998"
            ],
            "text/html": [
              "\n",
              "  <div id=\"df-673e5e1d-30d3-412b-984c-6f78d0f8468b\">\n",
              "    <div class=\"colab-df-container\">\n",
              "      <div>\n",
              "<style scoped>\n",
              "    .dataframe tbody tr th:only-of-type {\n",
              "        vertical-align: middle;\n",
              "    }\n",
              "\n",
              "    .dataframe tbody tr th {\n",
              "        vertical-align: top;\n",
              "    }\n",
              "\n",
              "    .dataframe thead th {\n",
              "        text-align: right;\n",
              "    }\n",
              "</style>\n",
              "<table border=\"1\" class=\"dataframe\">\n",
              "  <thead>\n",
              "    <tr style=\"text-align: right;\">\n",
              "      <th></th>\n",
              "      <th>Date</th>\n",
              "      <th>Open</th>\n",
              "      <th>High</th>\n",
              "    </tr>\n",
              "  </thead>\n",
              "  <tbody>\n",
              "    <tr>\n",
              "      <th>0</th>\n",
              "      <td>2015-01-03</td>\n",
              "      <td>314.846008</td>\n",
              "      <td>315.149994</td>\n",
              "    </tr>\n",
              "    <tr>\n",
              "      <th>1</th>\n",
              "      <td>2015-01-04</td>\n",
              "      <td>281.145996</td>\n",
              "      <td>287.230011</td>\n",
              "    </tr>\n",
              "    <tr>\n",
              "      <th>2</th>\n",
              "      <td>2015-01-05</td>\n",
              "      <td>265.084015</td>\n",
              "      <td>278.341003</td>\n",
              "    </tr>\n",
              "    <tr>\n",
              "      <th>3</th>\n",
              "      <td>2015-01-06</td>\n",
              "      <td>274.610992</td>\n",
              "      <td>287.553009</td>\n",
              "    </tr>\n",
              "    <tr>\n",
              "      <th>4</th>\n",
              "      <td>2015-01-07</td>\n",
              "      <td>286.076996</td>\n",
              "      <td>298.753998</td>\n",
              "    </tr>\n",
              "  </tbody>\n",
              "</table>\n",
              "</div>\n",
              "      <button class=\"colab-df-convert\" onclick=\"convertToInteractive('df-673e5e1d-30d3-412b-984c-6f78d0f8468b')\"\n",
              "              title=\"Convert this dataframe to an interactive table.\"\n",
              "              style=\"display:none;\">\n",
              "        \n",
              "  <svg xmlns=\"http://www.w3.org/2000/svg\" height=\"24px\"viewBox=\"0 0 24 24\"\n",
              "       width=\"24px\">\n",
              "    <path d=\"M0 0h24v24H0V0z\" fill=\"none\"/>\n",
              "    <path d=\"M18.56 5.44l.94 2.06.94-2.06 2.06-.94-2.06-.94-.94-2.06-.94 2.06-2.06.94zm-11 1L8.5 8.5l.94-2.06 2.06-.94-2.06-.94L8.5 2.5l-.94 2.06-2.06.94zm10 10l.94 2.06.94-2.06 2.06-.94-2.06-.94-.94-2.06-.94 2.06-2.06.94z\"/><path d=\"M17.41 7.96l-1.37-1.37c-.4-.4-.92-.59-1.43-.59-.52 0-1.04.2-1.43.59L10.3 9.45l-7.72 7.72c-.78.78-.78 2.05 0 2.83L4 21.41c.39.39.9.59 1.41.59.51 0 1.02-.2 1.41-.59l7.78-7.78 2.81-2.81c.8-.78.8-2.07 0-2.86zM5.41 20L4 18.59l7.72-7.72 1.47 1.35L5.41 20z\"/>\n",
              "  </svg>\n",
              "      </button>\n",
              "      \n",
              "  <style>\n",
              "    .colab-df-container {\n",
              "      display:flex;\n",
              "      flex-wrap:wrap;\n",
              "      gap: 12px;\n",
              "    }\n",
              "\n",
              "    .colab-df-convert {\n",
              "      background-color: #E8F0FE;\n",
              "      border: none;\n",
              "      border-radius: 50%;\n",
              "      cursor: pointer;\n",
              "      display: none;\n",
              "      fill: #1967D2;\n",
              "      height: 32px;\n",
              "      padding: 0 0 0 0;\n",
              "      width: 32px;\n",
              "    }\n",
              "\n",
              "    .colab-df-convert:hover {\n",
              "      background-color: #E2EBFA;\n",
              "      box-shadow: 0px 1px 2px rgba(60, 64, 67, 0.3), 0px 1px 3px 1px rgba(60, 64, 67, 0.15);\n",
              "      fill: #174EA6;\n",
              "    }\n",
              "\n",
              "    [theme=dark] .colab-df-convert {\n",
              "      background-color: #3B4455;\n",
              "      fill: #D2E3FC;\n",
              "    }\n",
              "\n",
              "    [theme=dark] .colab-df-convert:hover {\n",
              "      background-color: #434B5C;\n",
              "      box-shadow: 0px 1px 3px 1px rgba(0, 0, 0, 0.15);\n",
              "      filter: drop-shadow(0px 1px 2px rgba(0, 0, 0, 0.3));\n",
              "      fill: #FFFFFF;\n",
              "    }\n",
              "  </style>\n",
              "\n",
              "      <script>\n",
              "        const buttonEl =\n",
              "          document.querySelector('#df-673e5e1d-30d3-412b-984c-6f78d0f8468b button.colab-df-convert');\n",
              "        buttonEl.style.display =\n",
              "          google.colab.kernel.accessAllowed ? 'block' : 'none';\n",
              "\n",
              "        async function convertToInteractive(key) {\n",
              "          const element = document.querySelector('#df-673e5e1d-30d3-412b-984c-6f78d0f8468b');\n",
              "          const dataTable =\n",
              "            await google.colab.kernel.invokeFunction('convertToInteractive',\n",
              "                                                     [key], {});\n",
              "          if (!dataTable) return;\n",
              "\n",
              "          const docLinkHtml = 'Like what you see? Visit the ' +\n",
              "            '<a target=\"_blank\" href=https://colab.research.google.com/notebooks/data_table.ipynb>data table notebook</a>'\n",
              "            + ' to learn more about interactive tables.';\n",
              "          element.innerHTML = '';\n",
              "          dataTable['output_type'] = 'display_data';\n",
              "          await google.colab.output.renderOutput(dataTable, element);\n",
              "          const docLink = document.createElement('div');\n",
              "          docLink.innerHTML = docLinkHtml;\n",
              "          element.appendChild(docLink);\n",
              "        }\n",
              "      </script>\n",
              "    </div>\n",
              "  </div>\n",
              "  "
            ]
          },
          "metadata": {},
          "execution_count": 26
        }
      ]
    },
    {
      "cell_type": "code",
      "source": [
        "df_Pandas.shape"
      ],
      "metadata": {
        "colab": {
          "base_uri": "https://localhost:8080/"
        },
        "id": "N0I23HrGOxo7",
        "outputId": "28c54724-afda-416a-bd78-be2cb4d3a7d6"
      },
      "execution_count": null,
      "outputs": [
        {
          "output_type": "execute_result",
          "data": {
            "text/plain": [
              "(50, 3)"
            ]
          },
          "metadata": {},
          "execution_count": 27
        }
      ]
    },
    {
      "cell_type": "markdown",
      "source": [
        "## UDF\n",
        "\n",
        "Los UDF de Pyspark son similares a los métodos .map () y .apply () de pandas 'series y dataframes'.\n",
        "\n",
        "Eliminar guion en un string y reemplazar por slash:"
      ],
      "metadata": {
        "id": "UoXcejk0-doH"
      }
    },
    {
      "cell_type": "code",
      "source": [
        "UDF_python = F.udf(lambda s: s.replace(\"-\", \"/\"), StringType())\n",
        "df = df.withColumn(\"Date\", UDF_python(\"Date\"))"
      ],
      "metadata": {
        "id": "vT1d72L3XIgu"
      },
      "execution_count": null,
      "outputs": []
    },
    {
      "cell_type": "code",
      "source": [
        "df.show(5)"
      ],
      "metadata": {
        "id": "czHpOdTERbPS",
        "outputId": "6dfffd98-127f-4a9f-d958-fe68bc383aec",
        "colab": {
          "base_uri": "https://localhost:8080/"
        }
      },
      "execution_count": null,
      "outputs": [
        {
          "output_type": "stream",
          "name": "stdout",
          "text": [
            "+----------+----------+----------+----------+----------+--------+\n",
            "|      Date|      Open|      High|       Low|     Close|  Volume|\n",
            "+----------+----------+----------+----------+----------+--------+\n",
            "|2015/01/03|314.846008|315.149994|281.082001|281.082001|33054400|\n",
            "|2015/01/04|281.145996|287.230011|257.612000|264.195007|55629100|\n",
            "|2015/01/05|265.084015|278.341003|265.084015|274.473999|43962800|\n",
            "|2015/01/06|274.610992|287.553009|272.696014|286.188995|23245700|\n",
            "|2015/01/07|286.076996|298.753998|283.079010|294.337006|24866800|\n",
            "+----------+----------+----------+----------+----------+--------+\n",
            "only showing top 5 rows\n",
            "\n"
          ]
        }
      ]
    },
    {
      "cell_type": "markdown",
      "source": [
        "## Agrupar datos\n",
        "\n",
        "pandas:\n",
        "\n",
        "```\n",
        "df.groupby('Event').count()\n",
        "```"
      ],
      "metadata": {
        "id": "7pgukdnOAVkg"
      }
    },
    {
      "cell_type": "code",
      "source": [
        "from pyspark.sql.functions import year\n",
        "from pyspark.sql.functions import date_format, to_date\n",
        "from pyspark.sql.functions import substring"
      ],
      "metadata": {
        "id": "HabiqtboxEEq"
      },
      "execution_count": null,
      "outputs": []
    },
    {
      "cell_type": "code",
      "source": [
        "# Agrupa por año utilizando substring() para extraer los primeros 4 caracteres\n",
        "df = df.withColumn(\"Year\", substring(df[\"Date\"], 1, 4))\n",
        "\n",
        "# Agrupa por año y realiza el recuento de filas por año\n",
        "result = df.groupBy(\"Year\").count()\n",
        "\n",
        "# Muestra los resultados\n",
        "result.show()"
      ],
      "metadata": {
        "colab": {
          "base_uri": "https://localhost:8080/"
        },
        "id": "EuIWaLHp58WA",
        "outputId": "0389e452-592c-438e-d4b0-00aeb99fc856"
      },
      "execution_count": null,
      "outputs": [
        {
          "output_type": "stream",
          "name": "stdout",
          "text": [
            "+----+-----+\n",
            "|Year|count|\n",
            "+----+-----+\n",
            "|2016|  366|\n",
            "|2020|  366|\n",
            "|2019|  365|\n",
            "|2017|  365|\n",
            "|2018|  365|\n",
            "|2022|  365|\n",
            "|2023|  184|\n",
            "|2021|  365|\n",
            "|2015|  363|\n",
            "+----+-----+\n",
            "\n"
          ]
        }
      ]
    },
    {
      "cell_type": "markdown",
      "source": [
        "## Cambiar tipo de dato de una columna\n",
        "\n",
        "pandas:\n",
        "\n",
        "```\n",
        "df['Date] = pd.to_datetime(df['UTCDate'], format=\"%Y/%m/%d\")\n",
        "```"
      ],
      "metadata": {
        "id": "M35bRcDWBFPs"
      }
    },
    {
      "cell_type": "code",
      "source": [
        "# Convierte la columna \"Date\" al tipo de datos date utilizando to_date()\n",
        "df = df.withColumn(\"Date\", to_date(df[\"Date\"], \"yyyy-MM-dd\"))\n",
        "\n",
        "# Muestra el esquema del DataFrame para verificar el cambio de tipo de datos\n",
        "df.printSchema()\n",
        "\n",
        "# Muestra los primeros registros del DataFrame\n",
        "df.show()"
      ],
      "metadata": {
        "colab": {
          "base_uri": "https://localhost:8080/"
        },
        "id": "oxtA7wj77-bY",
        "outputId": "9dbe7792-1b04-49d6-c41b-9150dc46a257"
      },
      "execution_count": null,
      "outputs": [
        {
          "output_type": "stream",
          "name": "stdout",
          "text": [
            "root\n",
            " |-- Date: date (nullable = true)\n",
            " |-- Open: string (nullable = true)\n",
            " |-- High: string (nullable = true)\n",
            " |-- Low: string (nullable = true)\n",
            " |-- Close: string (nullable = true)\n",
            " |-- Volume: string (nullable = true)\n",
            " |-- Year: string (nullable = true)\n",
            "\n",
            "+----+----------+----------+----------+----------+--------+----+\n",
            "|Date|      Open|      High|       Low|     Close|  Volume|Year|\n",
            "+----+----------+----------+----------+----------+--------+----+\n",
            "|null|314.846008|315.149994|281.082001|281.082001|33054400|2015|\n",
            "|null|281.145996|287.230011|257.612000|264.195007|55629100|2015|\n",
            "|null|265.084015|278.341003|265.084015|274.473999|43962800|2015|\n",
            "|null|274.610992|287.553009|272.696014|286.188995|23245700|2015|\n",
            "|null|286.076996|298.753998|283.079010|294.337006|24866800|2015|\n",
            "|null|294.135010|294.135010|282.174988|283.348999|19982500|2015|\n",
            "|null|282.382996|291.114014|280.532990|290.407990|18718600|2015|\n",
            "|null|287.303009|288.127014|273.966003|274.795990|15264300|2015|\n",
            "|null|274.608002|279.638000|265.039001|265.660004|18200800|2015|\n",
            "|null|266.145996|272.203003|265.200012|267.795990|18880300|2015|\n",
            "|null|267.394012|268.277008|219.906006|225.860992|72843904|2015|\n",
            "|null|223.893997|223.893997|171.509995|178.102997|97638704|2015|\n",
            "|null|176.897003|229.067001|176.897003|209.843994|81773504|2015|\n",
            "|null|209.070007|221.591003|199.770996|208.097000|38421000|2015|\n",
            "|null|207.834000|211.731003|194.875000|199.259995|23469700|2015|\n",
            "|null|200.050003|218.695007|194.505997|210.339005|30085100|2015|\n",
            "|null|211.470993|216.727997|207.317993|214.860992|18658300|2015|\n",
            "|null|212.906998|215.240997|205.153000|211.315002|24051100|2015|\n",
            "|null|211.378006|227.787994|211.212006|226.897003|29924600|2015|\n",
            "|null|227.322006|237.018997|226.434006|233.406006|33544600|2015|\n",
            "+----+----------+----------+----------+----------+--------+----+\n",
            "only showing top 20 rows\n",
            "\n"
          ]
        }
      ]
    },
    {
      "cell_type": "markdown",
      "source": [
        "## Renombrar una columna\n",
        "\n",
        "pandas:\n",
        "\n",
        "```\n",
        "df.rename(columns={'Opening Type':'Opening}, inplace=True)\n",
        "```"
      ],
      "metadata": {
        "id": "XZ1N3VRHHY5r"
      }
    },
    {
      "cell_type": "code",
      "source": [
        "df = df.withColumnRenamed(\"Year\", \"Fecha\")"
      ],
      "metadata": {
        "id": "kFathnm8ZOrR"
      },
      "execution_count": null,
      "outputs": []
    },
    {
      "cell_type": "code",
      "source": [
        "df.show(3)"
      ],
      "metadata": {
        "colab": {
          "base_uri": "https://localhost:8080/"
        },
        "id": "wu3MdGZNaRZq",
        "outputId": "aa144c04-db31-4e83-a3c9-f2cb61ec24b8"
      },
      "execution_count": null,
      "outputs": [
        {
          "output_type": "stream",
          "name": "stdout",
          "text": [
            "+----+----------+----------+----------+----------+--------+-----+\n",
            "|Date|      Open|      High|       Low|     Close|  Volume|Fecha|\n",
            "+----+----------+----------+----------+----------+--------+-----+\n",
            "|null|314.846008|315.149994|281.082001|281.082001|33054400| 2015|\n",
            "|null|281.145996|287.230011|257.612000|264.195007|55629100| 2015|\n",
            "|null|265.084015|278.341003|265.084015|274.473999|43962800| 2015|\n",
            "+----+----------+----------+----------+----------+--------+-----+\n",
            "only showing top 3 rows\n",
            "\n"
          ]
        }
      ]
    },
    {
      "cell_type": "markdown",
      "source": [
        "# **Spark SQL en Python**"
      ],
      "metadata": {
        "id": "73nMomUYcmYz"
      }
    },
    {
      "cell_type": "markdown",
      "source": [
        "## Creación de vista del dataframe"
      ],
      "metadata": {
        "id": "JmGLxC63cGRq"
      }
    },
    {
      "cell_type": "code",
      "source": [
        "df.createOrReplaceTempView(\"btc_usd\")"
      ],
      "metadata": {
        "id": "xMMclp5dHqLw"
      },
      "execution_count": null,
      "outputs": []
    },
    {
      "cell_type": "markdown",
      "source": [
        "## Muestra de los datos"
      ],
      "metadata": {
        "id": "c2LrA1UjcSia"
      }
    },
    {
      "cell_type": "code",
      "source": [
        "spark.sql(\"SELECT COUNT(*) FROM btc_usd\").show()"
      ],
      "metadata": {
        "colab": {
          "base_uri": "https://localhost:8080/"
        },
        "id": "OgXnbBvdHgba",
        "outputId": "eff56968-6569-421d-e846-8924bc41bec7"
      },
      "execution_count": null,
      "outputs": [
        {
          "output_type": "stream",
          "name": "stdout",
          "text": [
            "+--------+\n",
            "|count(1)|\n",
            "+--------+\n",
            "|    3104|\n",
            "+--------+\n",
            "\n"
          ]
        }
      ]
    },
    {
      "cell_type": "markdown",
      "source": [
        "## Valores únicos de una columna"
      ],
      "metadata": {
        "id": "UqbxXSy9c2jz"
      }
    },
    {
      "cell_type": "code",
      "source": [
        "spark.sql(\"SELECT DISTINCT Open FROM btc_usd\").count()"
      ],
      "metadata": {
        "colab": {
          "base_uri": "https://localhost:8080/"
        },
        "id": "9Ciouk4ldR8_",
        "outputId": "7f367b15-6145-4f34-e5ab-88b949de38e0"
      },
      "execution_count": null,
      "outputs": [
        {
          "output_type": "execute_result",
          "data": {
            "text/plain": [
              "3102"
            ]
          },
          "metadata": {},
          "execution_count": 44
        }
      ]
    },
    {
      "cell_type": "markdown",
      "source": [
        "## Calculos de una columna"
      ],
      "metadata": {
        "id": "ZtA_vRjxdCqF"
      }
    },
    {
      "cell_type": "code",
      "source": [
        "spark.sql(\"SELECT AVG(Open) as avg_apertura, AVG(High) as avg_alto  FROM btc_usd\").show()"
      ],
      "metadata": {
        "colab": {
          "base_uri": "https://localhost:8080/"
        },
        "id": "qefMKuyCFVaQ",
        "outputId": "20942ae6-fb19-4e18-c971-40eaad7ec6ac"
      },
      "execution_count": null,
      "outputs": [
        {
          "output_type": "stream",
          "name": "stdout",
          "text": [
            "+------------------+------------------+\n",
            "|      avg_apertura|          avg_alto|\n",
            "+------------------+------------------+\n",
            "|14041.039379181955|14385.041531778288|\n",
            "+------------------+------------------+\n",
            "\n"
          ]
        }
      ]
    }
  ]
}